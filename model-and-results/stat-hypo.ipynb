{
 "cells": [
  {
   "attachments": {},
   "cell_type": "markdown",
   "metadata": {},
   "source": [
    "# Statistic Hypothesis Test\n",
    "For this, we'll be using the **time series hypothesis test** as described [here](https://elvyna.github.io/2018/time-series-hypothesis-testing/#:~:text=Time%20Series%20Hypothesis%20Test,have%20residuals%20of%20the%20series.).\n",
    "\n",
    "The first thing we need to do is load our data set into the Python Notebook. Just for background, we have the tweets between the 25 December 2021 to 23 June 2023 which span the 45 days before the start of campaign period until 45 days after elections.\n",
    "\n",
    "From this, we note the following important dates:\n",
    "- Campaign period (for nationally elected positions): 8 Feb 2022 to 7 May 2022\n",
    "- Election silence: 8 May 2022\n",
    "- Election day (for non-absentee voters in the Philippines): 9 May 2022"
   ]
  },
  {
   "cell_type": "code",
   "execution_count": 1,
   "metadata": {},
   "outputs": [
    {
     "data": {
      "text/html": [
       "<style type=\"text/css\">\n",
       "#T_f5495_row0_col0, #T_f5495_row0_col1, #T_f5495_row0_col2, #T_f5495_row0_col3, #T_f5495_row0_col4, #T_f5495_row0_col5, #T_f5495_row0_col6, #T_f5495_row0_col7, #T_f5495_row0_col8, #T_f5495_row0_col9, #T_f5495_row1_col0, #T_f5495_row1_col1, #T_f5495_row1_col2, #T_f5495_row1_col3, #T_f5495_row1_col4, #T_f5495_row1_col5, #T_f5495_row1_col6, #T_f5495_row1_col7, #T_f5495_row1_col8, #T_f5495_row1_col9, #T_f5495_row2_col0, #T_f5495_row2_col1, #T_f5495_row2_col2, #T_f5495_row2_col3, #T_f5495_row2_col4, #T_f5495_row2_col5, #T_f5495_row2_col6, #T_f5495_row2_col7, #T_f5495_row2_col8, #T_f5495_row2_col9, #T_f5495_row3_col0, #T_f5495_row3_col1, #T_f5495_row3_col2, #T_f5495_row3_col3, #T_f5495_row3_col4, #T_f5495_row3_col5, #T_f5495_row3_col6, #T_f5495_row3_col7, #T_f5495_row3_col8, #T_f5495_row3_col9, #T_f5495_row4_col0, #T_f5495_row4_col1, #T_f5495_row4_col2, #T_f5495_row4_col3, #T_f5495_row4_col4, #T_f5495_row4_col5, #T_f5495_row4_col6, #T_f5495_row4_col7, #T_f5495_row4_col8, #T_f5495_row4_col9 {\n",
       "  text-align: left;\n",
       "}\n",
       "</style>\n",
       "<table id=\"T_f5495\">\n",
       "  <thead>\n",
       "    <tr>\n",
       "      <th class=\"blank level0\" >&nbsp;</th>\n",
       "      <th id=\"T_f5495_level0_col0\" class=\"col_heading level0 col0\" >ID</th>\n",
       "      <th id=\"T_f5495_level0_col1\" class=\"col_heading level0 col1\" >Account type\n",
       "\"Identified\n",
       "Anonymous\n",
       "Media\"</th>\n",
       "      <th id=\"T_f5495_level0_col2\" class=\"col_heading level0 col2\" >Tweet Type</th>\n",
       "      <th id=\"T_f5495_level0_col3\" class=\"col_heading level0 col3\" >Tweet Type (2)</th>\n",
       "      <th id=\"T_f5495_level0_col4\" class=\"col_heading level0 col4\" >Tweet Type (3)</th>\n",
       "      <th id=\"T_f5495_level0_col5\" class=\"col_heading level0 col5\" >Date posted</th>\n",
       "      <th id=\"T_f5495_level0_col6\" class=\"col_heading level0 col6\" >Screenshot</th>\n",
       "      <th id=\"T_f5495_level0_col7\" class=\"col_heading level0 col7\" >Tweet ID</th>\n",
       "      <th id=\"T_f5495_level0_col8\" class=\"col_heading level0 col8\" >Tweet</th>\n",
       "      <th id=\"T_f5495_level0_col9\" class=\"col_heading level0 col9\" >Content type</th>\n",
       "    </tr>\n",
       "  </thead>\n",
       "  <tbody>\n",
       "    <tr>\n",
       "      <th id=\"T_f5495_level0_row0\" class=\"row_heading level0 row0\" >0</th>\n",
       "      <td id=\"T_f5495_row0_col0\" class=\"data row0 col0\" >00-1</td>\n",
       "      <td id=\"T_f5495_row0_col1\" class=\"data row0 col1\" >Identified</td>\n",
       "      <td id=\"T_f5495_row0_col2\" class=\"data row0 col2\" >Reply</td>\n",
       "      <td id=\"T_f5495_row0_col3\" class=\"data row0 col3\" >nan</td>\n",
       "      <td id=\"T_f5495_row0_col4\" class=\"data row0 col4\" >nan</td>\n",
       "      <td id=\"T_f5495_row0_col5\" class=\"data row0 col5\" >12/26/21 22:35</td>\n",
       "      <td id=\"T_f5495_row0_col6\" class=\"data row0 col6\" >00-1.png</td>\n",
       "      <td id=\"T_f5495_row0_col7\" class=\"data row0 col7\" >1475113095395966976</td>\n",
       "      <td id=\"T_f5495_row0_col8\" class=\"data row0 col8\" >@_ultravioletred @jersonality If their ED was done by a CPP cadre, the educator would've been reprimanded for sure. Whoever that educator is, they're probably still thinking in the 90s. Wake up kas, RA/RJ split is not that relevant anymore, lol. Embrace your comrades like what Neri, Labog, and Zarate did.</td>\n",
       "      <td id=\"T_f5495_row0_col9\" class=\"data row0 col9\" >Rational</td>\n",
       "    </tr>\n",
       "    <tr>\n",
       "      <th id=\"T_f5495_level0_row1\" class=\"row_heading level0 row1\" >1</th>\n",
       "      <td id=\"T_f5495_row1_col0\" class=\"data row1 col0\" >00-2</td>\n",
       "      <td id=\"T_f5495_row1_col1\" class=\"data row1 col1\" >Identified</td>\n",
       "      <td id=\"T_f5495_row1_col2\" class=\"data row1 col2\" >Reply</td>\n",
       "      <td id=\"T_f5495_row1_col3\" class=\"data row1 col3\" >nan</td>\n",
       "      <td id=\"T_f5495_row1_col4\" class=\"data row1 col4\" >nan</td>\n",
       "      <td id=\"T_f5495_row1_col5\" class=\"data row1 col5\" >12/28/21 13:25</td>\n",
       "      <td id=\"T_f5495_row1_col6\" class=\"data row1 col6\" >00-2.png</td>\n",
       "      <td id=\"T_f5495_row1_col7\" class=\"data row1 col7\" >1475699422982189056</td>\n",
       "      <td id=\"T_f5495_row1_col8\" class=\"data row1 col8\" >@lukatmhe Colmenarez family ay part sa legal front ng NPA. At saka may first cousin si Angel Locsin na big time drug dealer ng shabu sa Cebu. Siya ay former Local Beauty Queen. Mismo si Neri Colmenarez naki usap sa mga police na wag galawin or itumba.</td>\n",
       "      <td id=\"T_f5495_row1_col9\" class=\"data row1 col9\" >Rational</td>\n",
       "    </tr>\n",
       "    <tr>\n",
       "      <th id=\"T_f5495_level0_row2\" class=\"row_heading level0 row2\" >2</th>\n",
       "      <td id=\"T_f5495_row2_col0\" class=\"data row2 col0\" >00-3</td>\n",
       "      <td id=\"T_f5495_row2_col1\" class=\"data row2 col1\" >Anonymous</td>\n",
       "      <td id=\"T_f5495_row2_col2\" class=\"data row2 col2\" >Reply</td>\n",
       "      <td id=\"T_f5495_row2_col3\" class=\"data row2 col3\" >nan</td>\n",
       "      <td id=\"T_f5495_row2_col4\" class=\"data row2 col4\" >nan</td>\n",
       "      <td id=\"T_f5495_row2_col5\" class=\"data row2 col5\" >12/29/21 20:47</td>\n",
       "      <td id=\"T_f5495_row2_col6\" class=\"data row2 col6\" >00-3.png</td>\n",
       "      <td id=\"T_f5495_row2_col7\" class=\"data row2 col7\" >1476173017458016256</td>\n",
       "      <td id=\"T_f5495_row2_col8\" class=\"data row2 col8\" >@weirdnow1 @pnagovph yay 😂😂😂 kaya pa nmn mag pakamatay yang sina Elago,Zarate,Colmenares,Nato Reyes sa pakiki bakbakan.Tanggaaa yung mga nasapi sa NPA</td>\n",
       "      <td id=\"T_f5495_row2_col9\" class=\"data row2 col9\" >Emotional</td>\n",
       "    </tr>\n",
       "    <tr>\n",
       "      <th id=\"T_f5495_level0_row3\" class=\"row_heading level0 row3\" >3</th>\n",
       "      <td id=\"T_f5495_row3_col0\" class=\"data row3 col0\" >00-4</td>\n",
       "      <td id=\"T_f5495_row3_col1\" class=\"data row3 col1\" >Anonymous</td>\n",
       "      <td id=\"T_f5495_row3_col2\" class=\"data row3 col2\" >Reply</td>\n",
       "      <td id=\"T_f5495_row3_col3\" class=\"data row3 col3\" >nan</td>\n",
       "      <td id=\"T_f5495_row3_col4\" class=\"data row3 col4\" >nan</td>\n",
       "      <td id=\"T_f5495_row3_col5\" class=\"data row3 col5\" >01/07/22 14:37</td>\n",
       "      <td id=\"T_f5495_row3_col6\" class=\"data row3 col6\" >00-4.png</td>\n",
       "      <td id=\"T_f5495_row3_col7\" class=\"data row3 col7\" >1479341371219902464</td>\n",
       "      <td id=\"T_f5495_row3_col8\" class=\"data row3 col8\" >@ColmenaresPH Shut Up Colmenares NPA. SALOT KA\n",
       " \n",
       " #Nerveagain</td>\n",
       "      <td id=\"T_f5495_row3_col9\" class=\"data row3 col9\" >Emotional</td>\n",
       "    </tr>\n",
       "    <tr>\n",
       "      <th id=\"T_f5495_level0_row4\" class=\"row_heading level0 row4\" >4</th>\n",
       "      <td id=\"T_f5495_row4_col0\" class=\"data row4 col0\" >00-5</td>\n",
       "      <td id=\"T_f5495_row4_col1\" class=\"data row4 col1\" >Anonymous</td>\n",
       "      <td id=\"T_f5495_row4_col2\" class=\"data row4 col2\" >Reply</td>\n",
       "      <td id=\"T_f5495_row4_col3\" class=\"data row4 col3\" >nan</td>\n",
       "      <td id=\"T_f5495_row4_col4\" class=\"data row4 col4\" >nan</td>\n",
       "      <td id=\"T_f5495_row4_col5\" class=\"data row4 col5\" >01/08/22 06:25</td>\n",
       "      <td id=\"T_f5495_row4_col6\" class=\"data row4 col6\" >00-5.png</td>\n",
       "      <td id=\"T_f5495_row4_col7\" class=\"data row4 col7\" >1479580070922846208</td>\n",
       "      <td id=\"T_f5495_row4_col8\" class=\"data row4 col8\" >AHAHAHAHA neri niyo NPA</td>\n",
       "      <td id=\"T_f5495_row4_col9\" class=\"data row4 col9\" >Emotional</td>\n",
       "    </tr>\n",
       "  </tbody>\n",
       "</table>\n"
      ],
      "text/plain": [
       "<pandas.io.formats.style.Styler at 0x14a0482e0>"
      ]
     },
     "execution_count": 1,
     "metadata": {},
     "output_type": "execute_result"
    }
   ],
   "source": [
    "import pandas as pd\n",
    "import io\n",
    "\n",
    "df = pd.read_csv('cs132_tweets_model_and_results.csv')\n",
    "pd.set_option('display.max_colwidth', None)\n",
    "df.head().style.set_properties(**{'text-align': 'left'})"
   ]
  },
  {
   "attachments": {},
   "cell_type": "markdown",
   "metadata": {},
   "source": [
    "## Creating a daily tally of tweets\n",
    "Here, we create a complete log of the included dates and the corresponding frequency of tweets for each day."
   ]
  },
  {
   "cell_type": "code",
   "execution_count": 2,
   "metadata": {},
   "outputs": [
    {
     "data": {
      "text/html": [
       "<style type=\"text/css\">\n",
       "#T_58010_row0_col0, #T_58010_row0_col1, #T_58010_row0_col2, #T_58010_row0_col3, #T_58010_row0_col4, #T_58010_row0_col5, #T_58010_row0_col6, #T_58010_row0_col7, #T_58010_row0_col8, #T_58010_row0_col9, #T_58010_row0_col10, #T_58010_row1_col0, #T_58010_row1_col1, #T_58010_row1_col2, #T_58010_row1_col3, #T_58010_row1_col4, #T_58010_row1_col5, #T_58010_row1_col6, #T_58010_row1_col7, #T_58010_row1_col8, #T_58010_row1_col9, #T_58010_row1_col10, #T_58010_row2_col0, #T_58010_row2_col1, #T_58010_row2_col2, #T_58010_row2_col3, #T_58010_row2_col4, #T_58010_row2_col5, #T_58010_row2_col6, #T_58010_row2_col7, #T_58010_row2_col8, #T_58010_row2_col9, #T_58010_row2_col10, #T_58010_row3_col0, #T_58010_row3_col1, #T_58010_row3_col2, #T_58010_row3_col3, #T_58010_row3_col4, #T_58010_row3_col5, #T_58010_row3_col6, #T_58010_row3_col7, #T_58010_row3_col8, #T_58010_row3_col9, #T_58010_row3_col10, #T_58010_row4_col0, #T_58010_row4_col1, #T_58010_row4_col2, #T_58010_row4_col3, #T_58010_row4_col4, #T_58010_row4_col5, #T_58010_row4_col6, #T_58010_row4_col7, #T_58010_row4_col8, #T_58010_row4_col9, #T_58010_row4_col10 {\n",
       "  text-align: left;\n",
       "}\n",
       "</style>\n",
       "<table id=\"T_58010\">\n",
       "  <thead>\n",
       "    <tr>\n",
       "      <th class=\"blank level0\" >&nbsp;</th>\n",
       "      <th id=\"T_58010_level0_col0\" class=\"col_heading level0 col0\" >ID</th>\n",
       "      <th id=\"T_58010_level0_col1\" class=\"col_heading level0 col1\" >Account type\n",
       "\"Identified\n",
       "Anonymous\n",
       "Media\"</th>\n",
       "      <th id=\"T_58010_level0_col2\" class=\"col_heading level0 col2\" >Tweet Type</th>\n",
       "      <th id=\"T_58010_level0_col3\" class=\"col_heading level0 col3\" >Tweet Type (2)</th>\n",
       "      <th id=\"T_58010_level0_col4\" class=\"col_heading level0 col4\" >Tweet Type (3)</th>\n",
       "      <th id=\"T_58010_level0_col5\" class=\"col_heading level0 col5\" >Date posted</th>\n",
       "      <th id=\"T_58010_level0_col6\" class=\"col_heading level0 col6\" >Screenshot</th>\n",
       "      <th id=\"T_58010_level0_col7\" class=\"col_heading level0 col7\" >Tweet ID</th>\n",
       "      <th id=\"T_58010_level0_col8\" class=\"col_heading level0 col8\" >Tweet</th>\n",
       "      <th id=\"T_58010_level0_col9\" class=\"col_heading level0 col9\" >Content type</th>\n",
       "      <th id=\"T_58010_level0_col10\" class=\"col_heading level0 col10\" >Date</th>\n",
       "    </tr>\n",
       "  </thead>\n",
       "  <tbody>\n",
       "    <tr>\n",
       "      <th id=\"T_58010_level0_row0\" class=\"row_heading level0 row0\" >0</th>\n",
       "      <td id=\"T_58010_row0_col0\" class=\"data row0 col0\" >00-1</td>\n",
       "      <td id=\"T_58010_row0_col1\" class=\"data row0 col1\" >Identified</td>\n",
       "      <td id=\"T_58010_row0_col2\" class=\"data row0 col2\" >Reply</td>\n",
       "      <td id=\"T_58010_row0_col3\" class=\"data row0 col3\" >nan</td>\n",
       "      <td id=\"T_58010_row0_col4\" class=\"data row0 col4\" >nan</td>\n",
       "      <td id=\"T_58010_row0_col5\" class=\"data row0 col5\" >2021-12-26</td>\n",
       "      <td id=\"T_58010_row0_col6\" class=\"data row0 col6\" >00-1.png</td>\n",
       "      <td id=\"T_58010_row0_col7\" class=\"data row0 col7\" >1475113095395966976</td>\n",
       "      <td id=\"T_58010_row0_col8\" class=\"data row0 col8\" >@_ultravioletred @jersonality If their ED was done by a CPP cadre, the educator would've been reprimanded for sure. Whoever that educator is, they're probably still thinking in the 90s. Wake up kas, RA/RJ split is not that relevant anymore, lol. Embrace your comrades like what Neri, Labog, and Zarate did.</td>\n",
       "      <td id=\"T_58010_row0_col9\" class=\"data row0 col9\" >Rational</td>\n",
       "      <td id=\"T_58010_row0_col10\" class=\"data row0 col10\" >2021-12-26 00:00:00</td>\n",
       "    </tr>\n",
       "    <tr>\n",
       "      <th id=\"T_58010_level0_row1\" class=\"row_heading level0 row1\" >1</th>\n",
       "      <td id=\"T_58010_row1_col0\" class=\"data row1 col0\" >00-2</td>\n",
       "      <td id=\"T_58010_row1_col1\" class=\"data row1 col1\" >Identified</td>\n",
       "      <td id=\"T_58010_row1_col2\" class=\"data row1 col2\" >Reply</td>\n",
       "      <td id=\"T_58010_row1_col3\" class=\"data row1 col3\" >nan</td>\n",
       "      <td id=\"T_58010_row1_col4\" class=\"data row1 col4\" >nan</td>\n",
       "      <td id=\"T_58010_row1_col5\" class=\"data row1 col5\" >2021-12-28</td>\n",
       "      <td id=\"T_58010_row1_col6\" class=\"data row1 col6\" >00-2.png</td>\n",
       "      <td id=\"T_58010_row1_col7\" class=\"data row1 col7\" >1475699422982189056</td>\n",
       "      <td id=\"T_58010_row1_col8\" class=\"data row1 col8\" >@lukatmhe Colmenarez family ay part sa legal front ng NPA. At saka may first cousin si Angel Locsin na big time drug dealer ng shabu sa Cebu. Siya ay former Local Beauty Queen. Mismo si Neri Colmenarez naki usap sa mga police na wag galawin or itumba.</td>\n",
       "      <td id=\"T_58010_row1_col9\" class=\"data row1 col9\" >Rational</td>\n",
       "      <td id=\"T_58010_row1_col10\" class=\"data row1 col10\" >2021-12-28 00:00:00</td>\n",
       "    </tr>\n",
       "    <tr>\n",
       "      <th id=\"T_58010_level0_row2\" class=\"row_heading level0 row2\" >2</th>\n",
       "      <td id=\"T_58010_row2_col0\" class=\"data row2 col0\" >00-3</td>\n",
       "      <td id=\"T_58010_row2_col1\" class=\"data row2 col1\" >Anonymous</td>\n",
       "      <td id=\"T_58010_row2_col2\" class=\"data row2 col2\" >Reply</td>\n",
       "      <td id=\"T_58010_row2_col3\" class=\"data row2 col3\" >nan</td>\n",
       "      <td id=\"T_58010_row2_col4\" class=\"data row2 col4\" >nan</td>\n",
       "      <td id=\"T_58010_row2_col5\" class=\"data row2 col5\" >2021-12-29</td>\n",
       "      <td id=\"T_58010_row2_col6\" class=\"data row2 col6\" >00-3.png</td>\n",
       "      <td id=\"T_58010_row2_col7\" class=\"data row2 col7\" >1476173017458016256</td>\n",
       "      <td id=\"T_58010_row2_col8\" class=\"data row2 col8\" >@weirdnow1 @pnagovph yay 😂😂😂 kaya pa nmn mag pakamatay yang sina Elago,Zarate,Colmenares,Nato Reyes sa pakiki bakbakan.Tanggaaa yung mga nasapi sa NPA</td>\n",
       "      <td id=\"T_58010_row2_col9\" class=\"data row2 col9\" >Emotional</td>\n",
       "      <td id=\"T_58010_row2_col10\" class=\"data row2 col10\" >2021-12-29 00:00:00</td>\n",
       "    </tr>\n",
       "    <tr>\n",
       "      <th id=\"T_58010_level0_row3\" class=\"row_heading level0 row3\" >3</th>\n",
       "      <td id=\"T_58010_row3_col0\" class=\"data row3 col0\" >00-4</td>\n",
       "      <td id=\"T_58010_row3_col1\" class=\"data row3 col1\" >Anonymous</td>\n",
       "      <td id=\"T_58010_row3_col2\" class=\"data row3 col2\" >Reply</td>\n",
       "      <td id=\"T_58010_row3_col3\" class=\"data row3 col3\" >nan</td>\n",
       "      <td id=\"T_58010_row3_col4\" class=\"data row3 col4\" >nan</td>\n",
       "      <td id=\"T_58010_row3_col5\" class=\"data row3 col5\" >2022-01-07</td>\n",
       "      <td id=\"T_58010_row3_col6\" class=\"data row3 col6\" >00-4.png</td>\n",
       "      <td id=\"T_58010_row3_col7\" class=\"data row3 col7\" >1479341371219902464</td>\n",
       "      <td id=\"T_58010_row3_col8\" class=\"data row3 col8\" >@ColmenaresPH Shut Up Colmenares NPA. SALOT KA\n",
       " \n",
       " #Nerveagain</td>\n",
       "      <td id=\"T_58010_row3_col9\" class=\"data row3 col9\" >Emotional</td>\n",
       "      <td id=\"T_58010_row3_col10\" class=\"data row3 col10\" >2022-01-07 00:00:00</td>\n",
       "    </tr>\n",
       "    <tr>\n",
       "      <th id=\"T_58010_level0_row4\" class=\"row_heading level0 row4\" >4</th>\n",
       "      <td id=\"T_58010_row4_col0\" class=\"data row4 col0\" >00-5</td>\n",
       "      <td id=\"T_58010_row4_col1\" class=\"data row4 col1\" >Anonymous</td>\n",
       "      <td id=\"T_58010_row4_col2\" class=\"data row4 col2\" >Reply</td>\n",
       "      <td id=\"T_58010_row4_col3\" class=\"data row4 col3\" >nan</td>\n",
       "      <td id=\"T_58010_row4_col4\" class=\"data row4 col4\" >nan</td>\n",
       "      <td id=\"T_58010_row4_col5\" class=\"data row4 col5\" >2022-01-08</td>\n",
       "      <td id=\"T_58010_row4_col6\" class=\"data row4 col6\" >00-5.png</td>\n",
       "      <td id=\"T_58010_row4_col7\" class=\"data row4 col7\" >1479580070922846208</td>\n",
       "      <td id=\"T_58010_row4_col8\" class=\"data row4 col8\" >AHAHAHAHA neri niyo NPA</td>\n",
       "      <td id=\"T_58010_row4_col9\" class=\"data row4 col9\" >Emotional</td>\n",
       "      <td id=\"T_58010_row4_col10\" class=\"data row4 col10\" >2022-01-08 00:00:00</td>\n",
       "    </tr>\n",
       "  </tbody>\n",
       "</table>\n"
      ],
      "text/plain": [
       "<pandas.io.formats.style.Styler at 0x1104eec70>"
      ]
     },
     "execution_count": 2,
     "metadata": {},
     "output_type": "execute_result"
    }
   ],
   "source": [
    "# Copy the dataframe to one we can process\n",
    "df_daily = df.copy()\n",
    "\n",
    "# Transform the data to reflect daily logs\n",
    "df_daily['Date posted'] = pd.to_datetime(df['Date posted'])\n",
    "df_daily['Date posted'] = df_daily['Date posted'].dt.strftime('%Y-%m-%d')\n",
    "df_daily['Date'] = pd.to_datetime(df_daily['Date posted'], format='%Y-%m-%d')\n",
    "\n",
    "pd.set_option('display.max_colwidth', None)\n",
    "df_daily.head().style.set_properties(**{'text-align': 'left'})"
   ]
  },
  {
   "cell_type": "code",
   "execution_count": 3,
   "metadata": {},
   "outputs": [
    {
     "data": {
      "text/html": [
       "<div>\n",
       "<style scoped>\n",
       "    .dataframe tbody tr th:only-of-type {\n",
       "        vertical-align: middle;\n",
       "    }\n",
       "\n",
       "    .dataframe tbody tr th {\n",
       "        vertical-align: top;\n",
       "    }\n",
       "\n",
       "    .dataframe thead th {\n",
       "        text-align: right;\n",
       "    }\n",
       "</style>\n",
       "<table border=\"1\" class=\"dataframe\">\n",
       "  <thead>\n",
       "    <tr style=\"text-align: right;\">\n",
       "      <th></th>\n",
       "      <th>Frequency</th>\n",
       "    </tr>\n",
       "  </thead>\n",
       "  <tbody>\n",
       "    <tr>\n",
       "      <th>2021-12-25</th>\n",
       "      <td>0</td>\n",
       "    </tr>\n",
       "    <tr>\n",
       "      <th>2021-12-26</th>\n",
       "      <td>1</td>\n",
       "    </tr>\n",
       "    <tr>\n",
       "      <th>2021-12-27</th>\n",
       "      <td>0</td>\n",
       "    </tr>\n",
       "    <tr>\n",
       "      <th>2021-12-28</th>\n",
       "      <td>1</td>\n",
       "    </tr>\n",
       "    <tr>\n",
       "      <th>2021-12-29</th>\n",
       "      <td>1</td>\n",
       "    </tr>\n",
       "  </tbody>\n",
       "</table>\n",
       "</div>"
      ],
      "text/plain": [
       "            Frequency\n",
       "2021-12-25          0\n",
       "2021-12-26          1\n",
       "2021-12-27          0\n",
       "2021-12-28          1\n",
       "2021-12-29          1"
      ]
     },
     "execution_count": 3,
     "metadata": {},
     "output_type": "execute_result"
    }
   ],
   "source": [
    "# Create a counts dataframe\n",
    "s_freqinc = df_daily['Date'].value_counts()\n",
    "df_freqinc = s_freqinc.to_frame()\n",
    "df_freqinc.columns = ['Frequency']\n",
    "df_freqinc.head()\n",
    "\n",
    "# Create range of dates\n",
    "new_dates = pd.date_range(start='2021-12-25',end='2022-06-23',freq='D')\n",
    "\n",
    "# Reindex the dates\n",
    "df_freq = df_freqinc.reindex(new_dates).fillna(0)\n",
    "df_freq['Frequency'] = df_freq['Frequency'].astype('int')\n",
    "df_freq.head()"
   ]
  },
  {
   "cell_type": "code",
   "execution_count": 4,
   "metadata": {},
   "outputs": [
    {
     "data": {
      "text/html": [
       "<div>\n",
       "<style scoped>\n",
       "    .dataframe tbody tr th:only-of-type {\n",
       "        vertical-align: middle;\n",
       "    }\n",
       "\n",
       "    .dataframe tbody tr th {\n",
       "        vertical-align: top;\n",
       "    }\n",
       "\n",
       "    .dataframe thead th {\n",
       "        text-align: right;\n",
       "    }\n",
       "</style>\n",
       "<table border=\"1\" class=\"dataframe\">\n",
       "  <thead>\n",
       "    <tr style=\"text-align: right;\">\n",
       "      <th></th>\n",
       "      <th>Date</th>\n",
       "      <th>Frequency</th>\n",
       "    </tr>\n",
       "  </thead>\n",
       "  <tbody>\n",
       "    <tr>\n",
       "      <th>0</th>\n",
       "      <td>2021-12-25</td>\n",
       "      <td>0</td>\n",
       "    </tr>\n",
       "    <tr>\n",
       "      <th>1</th>\n",
       "      <td>2021-12-26</td>\n",
       "      <td>1</td>\n",
       "    </tr>\n",
       "    <tr>\n",
       "      <th>2</th>\n",
       "      <td>2021-12-27</td>\n",
       "      <td>0</td>\n",
       "    </tr>\n",
       "    <tr>\n",
       "      <th>3</th>\n",
       "      <td>2021-12-28</td>\n",
       "      <td>1</td>\n",
       "    </tr>\n",
       "    <tr>\n",
       "      <th>4</th>\n",
       "      <td>2021-12-29</td>\n",
       "      <td>1</td>\n",
       "    </tr>\n",
       "  </tbody>\n",
       "</table>\n",
       "</div>"
      ],
      "text/plain": [
       "        Date  Frequency\n",
       "0 2021-12-25          0\n",
       "1 2021-12-26          1\n",
       "2 2021-12-27          0\n",
       "3 2021-12-28          1\n",
       "4 2021-12-29          1"
      ]
     },
     "execution_count": 4,
     "metadata": {},
     "output_type": "execute_result"
    }
   ],
   "source": [
    "df_datefreq = df_freq.copy()\n",
    "df_datefreq['Date'] = df_datefreq.index\n",
    "df_datefreq.reset_index(drop=True, inplace=True)\n",
    "df_datefreq = df_datefreq[['Date', 'Frequency']]\n",
    "\n",
    "df_freq.to_csv('cs132_datefreq.csv')\n",
    "df_datefreq.head()"
   ]
  },
  {
   "attachments": {},
   "cell_type": "markdown",
   "metadata": {},
   "source": [
    "## Testing for stationarity\n",
    "\n",
    "One of the diagnoses done in time series analyses is to test for stationarity, or whether the mean and variance of the time series is constant over time. This is important because many time series models and statistical tests assume that the time series is stationary.\n",
    "\n",
    "A way to test for stationarity is through autocorrelation, in which we compare a time series to a copy of itself shifted backward in time (\"lagged\") to see whether past data is a good predictor of future data. We can do this by using the `autocorrelation_plot` function from the `pandas.plotting` module.\n",
    "\n",
    "In the plot, a $y$-value of...\n",
    "\n",
    "- $1$: means that the time series is perfectly correlated with itself at that lag (i.e., past data is a perfect predictor of future data),\n",
    "- $0$: means that the time series is not correlated with itself at that lag (i.e., past data is not a good predictor of future data),\n",
    "- $-1$ means that the time series is perfectly anti-correlated with itself at that lag (i.e., past data is a perfect inverse predictor of future data; large past data values is likely followed by smaller values)."
   ]
  },
  {
   "cell_type": "code",
   "execution_count": 20,
   "metadata": {},
   "outputs": [
    {
     "data": {
      "image/png": "[encoded data removed]",
      "text/plain": [
       "<Figure size 1400x800 with 1 Axes>"
      ]
     },
     "metadata": {},
     "output_type": "display_data"
    }
   ],
   "source": [
    "import matplotlib.pyplot as plt\n",
    "import matplotlib as mpl\n",
    "import numpy as np\n",
    "import statsmodels.api as sm\n",
    "\n",
    "with mpl.rc_context():\n",
    "    mpl.rc(\"figure\", figsize=(14,8))\n",
    "    sm.graphics.tsa.plot_acf(df_freq['Frequency'], lags=50)\n",
    "    plt.grid()\n",
    "    plt.xticks(np.arange(0, 51, 1.0))\n",
    "    plt.xlabel('Lag in days, $k$')\n",
    "    plt.show()\n",
    "\n",
    "# Store ACF values and confidence intervals\n",
    "acf_random, acf_random_confidence = sm.tsa.stattools.acf(df_freq, nlags=40, alpha=0.05)"
   ]
  },
  {
   "attachments": {},
   "cell_type": "markdown",
   "metadata": {},
   "source": [
    "The blue region in the plot represents the confidence interval, and any autocorrelation values outside this region are considered statistically significant. We can see from the plot that the autocorrelation values are mostly within the confidence interval, except for lags $k=1$, $k=8$, $k=10$, and $k=11$."
   ]
  },
  {
   "attachments": {},
   "cell_type": "markdown",
   "metadata": {},
   "source": [
    "## Test for normality\n",
    "\n",
    "In order to determine whether we can use a parametric or non-parametric test, we need to check if the data is normally distributed. We do this by using the Shapiro-Wilk test.\n",
    "\n",
    "H0: The data is normally distributed\n",
    "\n",
    "H1: The data is not normally distributed"
   ]
  },
  {
   "cell_type": "code",
   "execution_count": 10,
   "metadata": {},
   "outputs": [
    {
     "name": "stdout",
     "output_type": "stream",
     "text": [
      "[Shapiro-Wilk] statistic=0.761, p=0.0000000000000007134777684\n",
      "[Shapiro-Wilk] Reject H0 (not normal)\n"
     ]
    }
   ],
   "source": [
    "from scipy.stats import shapiro\n",
    "\n",
    "# Normality tests\n",
    "stat, p = shapiro(df_freq['Frequency'])\n",
    "print('[Shapiro-Wilk] statistic=%.3f, p=%.25f' % (stat, p))\n",
    "if p < 0.05:\n",
    "  print('[Shapiro-Wilk] Reject H0 (not normally distributed)')\n",
    "else:\n",
    "  print('[Shapiro-Wilk] Do not reject H0 (normally distributed)')"
   ]
  },
  {
   "attachments": {},
   "cell_type": "markdown",
   "metadata": {},
   "source": [
    "## Mann-Whitney U test\n",
    "\n",
    "Since the data was found to not be normally distributed, we have to use a non-parametric test. We use the Mann-Whitney U test to determine whether there is a significant difference between the averages of each period.\n",
    "\n",
    "### Test 1: Before vs After Elections\n",
    "\n",
    "H0: There is no difference between the frequency of tweets before and after elections.\n",
    "\n",
    "H1: The frequency of tweets significantly change before and after elections.\n",
    "\n",
    "- Election day (for non-absentee voters in the Philippines): 9 May 2022"
   ]
  },
  {
   "cell_type": "code",
   "execution_count": 6,
   "metadata": {},
   "outputs": [
    {
     "name": "stdout",
     "output_type": "stream",
     "text": [
      "[Mann-Whitney] statistic=4322.000, p=0.0000090593996920068365882\n",
      "[Mann-Whitney] Reject H0 (significant difference)\n"
     ]
    }
   ],
   "source": [
    "from scipy.stats import mannwhitneyu\n",
    "\n",
    "# Create data groups\n",
    "data_pre = df_datefreq[df_datefreq['Date'] < '2022-05-09']\n",
    "data_post = df_datefreq[df_datefreq['Date'] > '2022-05-09']\n",
    "\n",
    "# Perform Mann-Whitney U test\n",
    "stat, p = mannwhitneyu(data_pre['Frequency'], data_post['Frequency'])\n",
    "print('[Mann-Whitney] statistic=%.3f, p=%.25f' % (stat, p))\n",
    "if p < 0.05:\n",
    "  print('[Mann-Whitney] Reject H0 (significant difference)')\n",
    "else:\n",
    "  print('[Mann-Whitney] Do not reject H0 (no significant difference)')"
   ]
  },
  {
   "attachments": {},
   "cell_type": "markdown",
   "metadata": {},
   "source": [
    "We can see that $p<0.05$, leading us to the conclusion that **there is a significant difference between the average frequency of tweets before and after elections**."
   ]
  },
  {
   "attachments": {},
   "cell_type": "markdown",
   "metadata": {},
   "source": [
    "### Test 2: During vs. Not During the Campaign Period\n",
    "H0: There is no difference between the frequency of tweets included and excluded from the campaign period.\n",
    "\n",
    "H1: The frequency of tweets significantly change included and excluded from the campaign period.\n",
    "\n",
    "- Campaign period (for nationally elected positions): 8 Feb 2022 to 7 May 2022\n"
   ]
  },
  {
   "cell_type": "code",
   "execution_count": 12,
   "metadata": {},
   "outputs": [
    {
     "name": "stdout",
     "output_type": "stream",
     "text": [
      "[Mann-Whitney] statistic=5185.500, p=0.0011691632314091570006565\n",
      "[Mann-Whitney] Reject H0 (significant difference)\n"
     ]
    }
   ],
   "source": [
    "# Create data groups\n",
    "mask = (df_datefreq['Date'] > '2022-02-08') & (df_datefreq['Date'] <= '2022-05-07')\n",
    "data_inc = df_datefreq.loc[mask]\n",
    "mask =  (df_datefreq['Date'] <= '2022-02-08') | (df_datefreq['Date'] > '2022-05-07')\n",
    "data_ex = df_datefreq.loc[mask]\n",
    "\n",
    "# Perform Mann-Whitney U test\n",
    "stat, p = mannwhitneyu(data_inc['Frequency'], data_ex['Frequency'])\n",
    "print('[Mann-Whitney] statistic=%.3f, p=%.25f' % (stat, p))\n",
    "if p < 0.05:\n",
    "  print('[Mann-Whitney] Reject H0 (significant difference)')\n",
    "else:\n",
    "  print('[Mann-Whitney] Do not reject H0 (no significant difference)')"
   ]
  },
  {
   "attachments": {},
   "cell_type": "markdown",
   "metadata": {},
   "source": [
    "We can see that $p<0.05$, leading us to the conclusion that **there is a significant difference between the average frequency of tweets during and not during the official campaign period**."
   ]
  }
 ],
 "metadata": {
  "kernelspec": {
   "display_name": "Python 3",
   "language": "python",
   "name": "python3"
  },
  "language_info": {
   "codemirror_mode": {
    "name": "ipython",
    "version": 3
   },
   "file_extension": ".py",
   "mimetype": "text/x-python",
   "name": "python",
   "nbconvert_exporter": "python",
   "pygments_lexer": "ipython3",
   "version": "3.8.16"
  },
  "orig_nbformat": 4
 },
 "nbformat": 4,
 "nbformat_minor": 2
}
